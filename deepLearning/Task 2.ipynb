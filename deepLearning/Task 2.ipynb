{
 "cells": [
  {
   "cell_type": "code",
   "execution_count": 1,
   "metadata": {},
   "outputs": [],
   "source": [
    "import torch\n",
    "import torch.nn as nn\n",
    "import torchvision\n",
    "import torchvision.transforms as transforms\n",
    "\n",
    "import matplotlib.pyplot as plt\n",
    "%matplotlib inline"
   ]
  },
  {
   "cell_type": "code",
   "execution_count": 2,
   "metadata": {},
   "outputs": [],
   "source": [
    "input_size = 784 #28*28\n",
    "num_classes = 10\n",
    "batch_size = 1000"
   ]
  },
  {
   "cell_type": "code",
   "execution_count": 3,
   "metadata": {},
   "outputs": [],
   "source": [
    "# MNIST dataset (images and labels)\n",
    "train_dataset = torchvision.datasets.MNIST(root='../../data', \n",
    "                                           train=True, \n",
    "                                           transform=transforms.ToTensor(),\n",
    "                                           download=True)\n",
    "\n",
    "test_dataset = torchvision.datasets.MNIST(root='../../data', \n",
    "                                          train=False, \n",
    "                                          transform=transforms.ToTensor())"
   ]
  },
  {
   "cell_type": "code",
   "execution_count": 4,
   "metadata": {},
   "outputs": [],
   "source": [
    "# Data loader (input pipeline)\n",
    "train_loader = torch.utils.data.DataLoader(dataset=train_dataset, \n",
    "                                           batch_size=batch_size, \n",
    "                                           shuffle=True)\n",
    "\n",
    "test_loader = torch.utils.data.DataLoader(dataset=test_dataset, \n",
    "                                          batch_size=batch_size, \n",
    "                                          shuffle=False)"
   ]
  },
  {
   "cell_type": "markdown",
   "metadata": {},
   "source": [
    "### Conv -> MaxPool -> ReLu -> Conv -> MaxPool -> ReLu -> FC"
   ]
  },
  {
   "cell_type": "markdown",
   "metadata": {},
   "source": [
    "28*28*3 -> 28*28*8 -> 14*14*8 -> 14*14*16 -> 7*7*16"
   ]
  },
  {
   "cell_type": "code",
   "execution_count": 8,
   "metadata": {},
   "outputs": [],
   "source": [
    "#inplace = 1 - B&W\n",
    "\n",
    "class CNN_(nn.Module):\n",
    "    def __init__(self, inplanes=1, planes1=16, planes2=32, stride=1):\n",
    "        super(CNN_, self).__init__()\n",
    "\n",
    "        self.layer1 = nn.Sequential(nn.Conv2d(inplanes, planes1, kernel_size=3, stride=1, padding=1),\n",
    "                                    nn.ReLU(),\n",
    "                                    nn.BatchNorm2d(16),\n",
    "                                    nn.MaxPool2d(kernel_size=2, stride=2)) \n",
    "        self.layer2 = nn.Sequential(nn.Conv2d(planes1, planes2, kernel_size=3, stride=1, padding=1), \n",
    "                                    nn.ReLU(),\n",
    "                                    nn.BatchNorm2d(32),\n",
    "                                    nn.MaxPool2d(kernel_size=2, stride=2))\n",
    "        #self.drop_out = nn.Dropout() \n",
    "        self.fc1 = nn.Linear(7 * 7 * planes2, 32) # 14*14*16\n",
    "        self.fc2 = nn.Linear(32, 10)\n",
    "    def forward(self, x): \n",
    "        out = self.layer1(x) \n",
    "        out = self.layer2(out)\n",
    "        out = out.reshape(out.size(0), -1)\n",
    "        #out = self.drop_out(out)\n",
    "        out = self.fc1(out)\n",
    "        out = self.fc2(out)\n",
    "        return out"
   ]
  },
  {
   "cell_type": "code",
   "execution_count": 9,
   "metadata": {
    "scrolled": true
   },
   "outputs": [
    {
     "name": "stdout",
     "output_type": "stream",
     "text": [
      "Epoch [1/5], Step [20/60], Loss: 0.5218, Accuracy: 0.86300000%\n",
      "Epoch [1/5], Step [40/60], Loss: 0.2263, Accuracy: 0.93100000%\n",
      "Epoch [1/5], Step [60/60], Loss: 0.1485, Accuracy: 0.95800000%\n",
      "Epoch [2/5], Step [20/60], Loss: 0.1225, Accuracy: 0.96100000%\n",
      "Epoch [2/5], Step [40/60], Loss: 0.0998, Accuracy: 0.97500000%\n",
      "Epoch [2/5], Step [60/60], Loss: 0.0920, Accuracy: 0.97700000%\n",
      "Epoch [3/5], Step [20/60], Loss: 0.1121, Accuracy: 0.96600000%\n",
      "Epoch [3/5], Step [40/60], Loss: 0.0880, Accuracy: 0.97700000%\n",
      "Epoch [3/5], Step [60/60], Loss: 0.1218, Accuracy: 0.97000000%\n",
      "Epoch [4/5], Step [20/60], Loss: 0.0694, Accuracy: 0.98100000%\n",
      "Epoch [4/5], Step [40/60], Loss: 0.0983, Accuracy: 0.96900000%\n",
      "Epoch [4/5], Step [60/60], Loss: 0.0614, Accuracy: 0.98700000%\n",
      "Epoch [5/5], Step [20/60], Loss: 0.0854, Accuracy: 0.98000000%\n",
      "Epoch [5/5], Step [40/60], Loss: 0.0825, Accuracy: 0.97700000%\n",
      "Epoch [5/5], Step [60/60], Loss: 0.0788, Accuracy: 0.97900000%\n"
     ]
    }
   ],
   "source": [
    "num_epochs = 5\n",
    "weight_decay = 0.01\n",
    "momentum = 0.9\n",
    "learning_rate = 0.01\n",
    "\n",
    "model = CNN_()\n",
    "criterion = nn.CrossEntropyLoss() # CrossEntropyLoss() объединяет и SoftMax, и кросс-энтропийную функцию потерь\n",
    "optimizer = torch.optim.SGD(model.parameters(), lr=learning_rate, weight_decay=weight_decay, momentum=momentum)\n",
    "\n",
    "total_step = len(train_loader)\n",
    "loss_list = []\n",
    "acc_list = []\n",
    "\n",
    "for epoch in range(num_epochs):\n",
    "    for i, (images, labels) in enumerate(train_loader):\n",
    "        images = images\n",
    "        labels = labels\n",
    "        \n",
    "        # Прямой запуск\n",
    "        outputs = model(images)\n",
    "        loss = criterion(outputs, labels)\n",
    "        loss_list.append(loss.item())\n",
    "\n",
    "        # Обратное распространение и оптимизатор\n",
    "        optimizer.zero_grad()\n",
    "        loss.backward()\n",
    "        optimizer.step()\n",
    "        \n",
    "        # Отслеживание точности\n",
    "        total = labels.size(0)\n",
    "        _, predicted = torch.max(outputs.data, 1)\n",
    "        correct = (predicted == labels).sum().item()\n",
    "        acc_list.append(correct / total)\n",
    "\n",
    "        if (i + 1) % 20 == 0:\n",
    "            print('Epoch [{}/{}], Step [{}/{}], Loss: {:.4f}, Accuracy: {:.8f}%'\n",
    "                  .format(epoch + 1, num_epochs, i + 1, total_step, loss.item(),\n",
    "                          (correct / total)))"
   ]
  },
  {
   "cell_type": "code",
   "execution_count": 37,
   "metadata": {},
   "outputs": [
    {
     "name": "stdout",
     "output_type": "stream",
     "text": [
      "Test Accuracy of the model on the 10000 test images: 97.94 %\n"
     ]
    }
   ],
   "source": [
    "# Test the model\n",
    "model.eval()  # eval mode (batchnorm uses moving mean/variance instead of mini-batch mean/variance)\n",
    "with torch.no_grad():\n",
    "    correct = 0\n",
    "    total = 0\n",
    "    for images, labels in test_loader:\n",
    "        images = images\n",
    "        labels = labels\n",
    "        outputs = model(images)\n",
    "        _, predicted = torch.max(outputs.data, 1)\n",
    "        total += labels.size(0)\n",
    "        correct += (predicted == labels).sum().item()\n",
    "\n",
    "print('Test Accuracy of the model on the 10000 test images: {} %'.format(100 * correct / total))"
   ]
  },
  {
   "cell_type": "markdown",
   "metadata": {},
   "source": [
    "# #2"
   ]
  },
  {
   "cell_type": "code",
   "execution_count": 25,
   "metadata": {},
   "outputs": [],
   "source": [
    "#inplace = 1 - B&W\n",
    "\n",
    "class CNN_2(nn.Module):\n",
    "    def __init__(self, inplanes=1, planes1=16, planes2=32, stride=1):\n",
    "        super(CNN_2, self).__init__()\n",
    "\n",
    "        self.layer1 = nn.Sequential(nn.Conv2d(inplanes, planes1, kernel_size=5, stride=1, padding=2),\n",
    "                                    nn.ReLU(),\n",
    "                                    nn.BatchNorm2d(16),\n",
    "                                    nn.MaxPool2d(kernel_size=2, stride=2)) \n",
    "        self.layer2 = nn.Sequential(nn.Conv2d(planes1, planes2, kernel_size=5, stride=1, padding=2), \n",
    "                                    nn.ReLU(),\n",
    "                                    nn.BatchNorm2d(32),\n",
    "                                    nn.MaxPool2d(kernel_size=2, stride=2))\n",
    "        #self.drop_out = nn.Dropout() \n",
    "        self.fc1 = nn.Linear(7 * 7 * planes2, 32) # 14*14*16\n",
    "        self.fc2 = nn.Linear(32, 10)\n",
    "    def forward(self, x): \n",
    "        out = self.layer1(x) \n",
    "        out = self.layer2(out)\n",
    "        out = out.reshape(out.size(0), -1)\n",
    "        #out = self.drop_out(out)\n",
    "        out = self.fc1(out)\n",
    "        out = self.fc2(out)\n",
    "        return out"
   ]
  },
  {
   "cell_type": "code",
   "execution_count": 27,
   "metadata": {},
   "outputs": [
    {
     "name": "stdout",
     "output_type": "stream",
     "text": [
      "Epoch [1/5], Step [20/60], Loss: 1.8168, Accuracy: 0.58500000%\n",
      "Epoch [1/5], Step [40/60], Loss: 1.2423, Accuracy: 0.76400000%\n",
      "Epoch [1/5], Step [60/60], Loss: 0.8134, Accuracy: 0.87000000%\n",
      "Epoch [2/5], Step [20/60], Loss: 0.6174, Accuracy: 0.90800000%\n",
      "Epoch [2/5], Step [40/60], Loss: 0.4898, Accuracy: 0.90800000%\n",
      "Epoch [2/5], Step [60/60], Loss: 0.3961, Accuracy: 0.91900000%\n",
      "Epoch [3/5], Step [20/60], Loss: 0.3218, Accuracy: 0.94100000%\n",
      "Epoch [3/5], Step [40/60], Loss: 0.3088, Accuracy: 0.92600000%\n",
      "Epoch [3/5], Step [60/60], Loss: 0.2923, Accuracy: 0.93200000%\n",
      "Epoch [4/5], Step [20/60], Loss: 0.2422, Accuracy: 0.95200000%\n",
      "Epoch [4/5], Step [40/60], Loss: 0.2417, Accuracy: 0.94200000%\n",
      "Epoch [4/5], Step [60/60], Loss: 0.2301, Accuracy: 0.94200000%\n",
      "Epoch [5/5], Step [20/60], Loss: 0.1833, Accuracy: 0.95300000%\n",
      "Epoch [5/5], Step [40/60], Loss: 0.1969, Accuracy: 0.95800000%\n",
      "Epoch [5/5], Step [60/60], Loss: 0.1547, Accuracy: 0.95900000%\n"
     ]
    }
   ],
   "source": [
    "num_epochs = 5\n",
    "weight_decay = 0.01\n",
    "momentum = 0.9\n",
    "learning_rate = 0.001\n",
    "\n",
    "model = CNN_2()\n",
    "criterion = nn.CrossEntropyLoss() # CrossEntropyLoss() объединяет и SoftMax, и кросс-энтропийную функцию потерь\n",
    "optimizer = torch.optim.SGD(model.parameters(), lr=learning_rate, weight_decay=weight_decay, momentum=momentum)\n",
    "\n",
    "total_step = len(train_loader)\n",
    "loss_list2 = []\n",
    "acc_list2 = []\n",
    "\n",
    "for epoch in range(num_epochs):\n",
    "    for i, (images, labels) in enumerate(train_loader):\n",
    "        images = images\n",
    "        labels = labels\n",
    "        \n",
    "        # Прямой запуск\n",
    "        outputs = model(images)\n",
    "        loss = criterion(outputs, labels)\n",
    "        loss_list2.append(loss.item())\n",
    "\n",
    "        # Обратное распространение и оптимизатор\n",
    "        optimizer.zero_grad()\n",
    "        loss.backward()\n",
    "        optimizer.step()\n",
    "        \n",
    "        # Отслеживание точности\n",
    "        total = labels.size(0)\n",
    "        _, predicted = torch.max(outputs.data, 1)\n",
    "        correct = (predicted == labels).sum().item()\n",
    "        acc_list2.append(correct / total)\n",
    "\n",
    "        if (i + 1) % 20 == 0:\n",
    "            print('Epoch [{}/{}], Step [{}/{}], Loss: {:.4f}, Accuracy: {:.8f}%'\n",
    "                  .format(epoch + 1, num_epochs, i + 1, total_step, loss.item(),\n",
    "                          (correct / total)))"
   ]
  },
  {
   "cell_type": "code",
   "execution_count": 30,
   "metadata": {},
   "outputs": [
    {
     "name": "stdout",
     "output_type": "stream",
     "text": [
      "Test Accuracy of the model on the 10000 test images: 95.96 %\n"
     ]
    }
   ],
   "source": [
    "# Test the model\n",
    "model.eval()  # eval mode (batchnorm uses moving mean/variance instead of mini-batch mean/variance)\n",
    "with torch.no_grad():\n",
    "    correct = 0\n",
    "    total = 0\n",
    "    for images, labels in test_loader:\n",
    "        images = images\n",
    "        labels = labels\n",
    "        outputs = model(images)\n",
    "        _, predicted = torch.max(outputs.data, 1)\n",
    "        total += labels.size(0)\n",
    "        correct += (predicted == labels).sum().item()\n",
    "\n",
    "print('Test Accuracy of the model on the 10000 test images: {} %'.format(100 * correct / total))"
   ]
  },
  {
   "cell_type": "code",
   "execution_count": 38,
   "metadata": {},
   "outputs": [
    {
     "data": {
      "image/png": "[encoded data removed]",
      "text/plain": [
       "<Figure size 432x288 with 1 Axes>"
      ]
     },
     "metadata": {
      "needs_background": "light"
     },
     "output_type": "display_data"
    }
   ],
   "source": [
    "plt.plot(range(num_epochs*len(train_loader)), acc_list[0:300], 'b')\n",
    "pass"
   ]
  },
  {
   "cell_type": "code",
   "execution_count": 20,
   "metadata": {},
   "outputs": [
    {
     "data": {
      "image/png": "[encoded data removed]",
      "text/plain": [
       "<Figure size 432x288 with 1 Axes>"
      ]
     },
     "metadata": {
      "needs_background": "light"
     },
     "output_type": "display_data"
    }
   ],
   "source": [
    "plt.plot(range(num_epochs*len(train_loader)), loss_list, 'r')\n",
    "pass"
   ]
  }
 ],
 "metadata": {
  "kernelspec": {
   "display_name": "Python 3",
   "language": "python",
   "name": "python3"
  },
  "language_info": {
   "codemirror_mode": {
    "name": "ipython",
    "version": 3
   },
   "file_extension": ".py",
   "mimetype": "text/x-python",
   "name": "python",
   "nbconvert_exporter": "python",
   "pygments_lexer": "ipython3",
   "version": "3.7.1"
  }
 },
 "nbformat": 4,
 "nbformat_minor": 2
}
