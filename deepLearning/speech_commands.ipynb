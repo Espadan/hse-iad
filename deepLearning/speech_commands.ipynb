{
 "cells": [
  {
   "cell_type": "code",
   "execution_count": 0,
   "metadata": {
    "colab": {},
    "colab_type": "code",
    "id": "7m-3KHuCy-8F"
   },
   "outputs": [],
   "source": [
    "from google.colab import drive\n",
    "drive.mount('/content/gdrive')\n",
    "!unzip \"/content/gdrive/My Drive/Colab Notebooks/speech_data.zip\""
   ]
  },
  {
   "cell_type": "code",
   "execution_count": 2,
   "metadata": {
    "colab": {},
    "colab_type": "code",
    "id": "MVePSjQ9QWiR"
   },
   "outputs": [],
   "source": [
    "commands_train_dir='speech_data/commands/train/'\n",
    "commands_test_dir='speech_data/commands/test/'\n",
    "\n",
    "digits_train_dir='speech_data/digits/train/'\n",
    "digits_test_dir='speech_data/digits/test/'"
   ]
  },
  {
   "cell_type": "code",
   "execution_count": 76,
   "metadata": {
    "colab": {},
    "colab_type": "code",
    "id": "dB_sXbyxUTpD"
   },
   "outputs": [],
   "source": [
    "import numpy as np\n",
    "import os\n",
    "import tensorflow as tf\n",
    "\n",
    "import matplotlib.pyplot as plt\n",
    "%matplotlib inline"
   ]
  },
  {
   "cell_type": "code",
   "execution_count": 5,
   "metadata": {
    "colab": {},
    "colab_type": "code",
    "id": "knRLc0UK8lse"
   },
   "outputs": [],
   "source": [
    "def load_graph(filename,name=''):\n",
    "    \"\"\"Unpersists graph from file as default graph.\"\"\"\n",
    "    with tf.gfile.FastGFile(filename, 'rb') as f:\n",
    "        graph_def = tf.GraphDef()\n",
    "        graph_def.ParseFromString(f.read())\n",
    "        tf.import_graph_def(graph_def, name=name)\n",
    "    return graph_def\n",
    "\n",
    "def run_graph(sess,output_tensor,wav_file):\n",
    "    with open(wav_file, 'rb') as wav_file:\n",
    "        wav_data = wav_file.read()\n",
    "    input_layer_name = 'wav_data:0'\n",
    "    predictions, = sess.run(output_tensor, {input_layer_name: wav_data})\n",
    "    return predictions        \n",
    "\n",
    "def is_wav(path):\n",
    "    _, file_extension = os.path.splitext(path)\n",
    "    return file_extension.lower() in ['.wav']"
   ]
  },
  {
   "cell_type": "markdown",
   "metadata": {},
   "source": [
    "# Commands & conv_actions_frozen.pb"
   ]
  },
  {
   "cell_type": "code",
   "execution_count": 20,
   "metadata": {
    "colab": {
     "base_uri": "https://localhost:8080/",
     "height": 105
    },
    "colab_type": "code",
    "executionInfo": {
     "elapsed": 571,
     "status": "ok",
     "timestamp": 1556000896619,
     "user": {
      "displayName": "Andrey Savchenko",
      "photoUrl": "",
      "userId": "10284387503507973825"
     },
     "user_tz": -180
    },
    "id": "StsgwZPmvv3v",
    "outputId": "32f25575-dca5-47b1-97a5-6fb6ac4feb3c"
   },
   "outputs": [
    {
     "name": "stdout",
     "output_type": "stream",
     "text": [
      "['wav_data', 'decoded_sample_data', 'AudioSpectrogram', 'Mfcc', 'Reshape/shape', 'Reshape', 'Variable', 'Variable/read', 'Variable_1', 'Variable_1/read', 'Conv2D', 'add', 'Relu', 'MaxPool', 'Variable_2', 'Variable_2/read', 'Variable_3', 'Variable_3/read', 'Conv2D_1', 'add_1', 'Relu_1', 'Reshape_1/shape', 'Reshape_1', 'Variable_4', 'Variable_4/read', 'Variable_5', 'Variable_5/read', 'MatMul', 'add_2', 'labels_softmax']\n"
     ]
    }
   ],
   "source": [
    "tf.reset_default_graph()\n",
    "graph_def=load_graph('speech_data/conv_actions_frozen.pb')\n",
    "print([n.name for n in graph_def.node])"
   ]
  },
  {
   "cell_type": "code",
   "execution_count": 106,
   "metadata": {
    "colab": {
     "base_uri": "https://localhost:8080/",
     "height": 34
    },
    "colab_type": "code",
    "executionInfo": {
     "elapsed": 6099,
     "status": "ok",
     "timestamp": 1556000904222,
     "user": {
      "displayName": "Andrey Savchenko",
      "photoUrl": "",
      "userId": "10284387503507973825"
     },
     "user_tz": -180
    },
    "id": "OGHVKSKsY8tk",
    "outputId": "9648026b-e97f-4bbf-8410-4a282b3881e2"
   },
   "outputs": [],
   "source": [
    "X_train_1 = np.empty([0, 64000])\n",
    "X_test_1 = np.empty([0, 64000])\n",
    "\n",
    "y_train_1 = np.empty(0)\n",
    "y_test_1 = np.empty(0)\n",
    "\n",
    "#Command recognition\n",
    "command_labels=['_silence_','_unknown_','yes','no','up','down','left','right','on','off','stop','go']\n",
    "with tf.Session() as sess:\n",
    "    out_tensor = sess.graph.get_tensor_by_name('Reshape_1:0')\n",
    "    \n",
    "    for d in next(os.walk(commands_test_dir))[1]:\n",
    "        for f in next(os.walk(os.path.join(commands_test_dir,d)))[2]:\n",
    "            if is_wav(f):\n",
    "                wav_file=os.path.join(commands_test_dir,d,f)        \n",
    "                preds=run_graph(sess,out_tensor,wav_file)\n",
    "                X_test_1 = np.vstack([X_test_1, np.array(preds)])\n",
    "                y_test_1 = np.append(y_test_1, command_labels.index(d))\n",
    "                \n",
    "    for d in next(os.walk(commands_train_dir))[1]:\n",
    "        for f in next(os.walk(os.path.join(commands_train_dir,d)))[2]:\n",
    "            if is_wav(f):\n",
    "                wav_file=os.path.join(commands_train_dir,d,f)        \n",
    "                preds=run_graph(sess,out_tensor,wav_file)\n",
    "                X_train_1 = np.vstack([X_train_1, np.array(preds)])\n",
    "                y_train_1 = np.append(y_train_1, command_labels.index(d))"
   ]
  },
  {
   "cell_type": "code",
   "execution_count": 70,
   "metadata": {},
   "outputs": [
    {
     "data": {
      "text/plain": [
       "(100, 64000)"
      ]
     },
     "execution_count": 70,
     "metadata": {},
     "output_type": "execute_result"
    }
   ],
   "source": [
    "X_train_1.shape"
   ]
  },
  {
   "cell_type": "markdown",
   "metadata": {},
   "source": [
    "## kNN"
   ]
  },
  {
   "cell_type": "code",
   "execution_count": 30,
   "metadata": {},
   "outputs": [],
   "source": [
    "from sklearn.neighbors import KNeighborsClassifier"
   ]
  },
  {
   "cell_type": "code",
   "execution_count": 59,
   "metadata": {},
   "outputs": [
    {
     "name": "stdout",
     "output_type": "stream",
     "text": [
      "0.0 0.17346938775510204\n"
     ]
    }
   ],
   "source": [
    "knn = KNeighborsClassifier(n_neighbors = 1)\n",
    "knn.fit(X_train_1, y_train_1)\n",
    "\n",
    "y_train_predict = knn.predict(X_train_1)\n",
    "y_test_predict = knn.predict(X_test_1)\n",
    "\n",
    "err_train = np.mean(y_train_1 != y_train_predict)\n",
    "err_test  = np.mean(y_test_1  != y_test_predict)\n",
    "\n",
    "print(err_train, err_test)"
   ]
  },
  {
   "cell_type": "code",
   "execution_count": 83,
   "metadata": {},
   "outputs": [
    {
     "data": {
      "text/plain": [
       "array([ 1, 11, 21, 31, 41, 51, 61, 71, 81, 91])"
      ]
     },
     "execution_count": 83,
     "metadata": {},
     "output_type": "execute_result"
    }
   ],
   "source": [
    "k_ = np.arange(1,99,10)\n",
    "k_"
   ]
  },
  {
   "cell_type": "code",
   "execution_count": 84,
   "metadata": {},
   "outputs": [],
   "source": [
    "test_err = []\n",
    "train_err = []\n",
    "for k in k_:\n",
    "    knn = KNeighborsClassifier(n_neighbors = k)\n",
    "    knn.fit(X_train_1, y_train_1)\n",
    "\n",
    "    y_train_pred = knn.predict(X_train_1)\n",
    "    y_test_pred = knn.predict(X_test_1)\n",
    "    train_err.append(np.mean(y_train_1 != y_train_pred))\n",
    "    test_err.append(np.mean(y_test_1 != y_test_pred))"
   ]
  },
  {
   "cell_type": "code",
   "execution_count": 85,
   "metadata": {},
   "outputs": [
    {
     "data": {
      "image/png": "[encoded data removed]",
      "text/plain": [
       "<Figure size 432x288 with 1 Axes>"
      ]
     },
     "metadata": {
      "needs_background": "light"
     },
     "output_type": "display_data"
    }
   ],
   "source": [
    "plt.plot(k_, train_err, 'b', label = 'train')\n",
    "plt.plot(k_, test_err, 'r', label = 'test')\n",
    "plt.title('Error vs. n_estimators')\n",
    "plt.xlabel('n_estimators')\n",
    "plt.ylabel('error')\n",
    "plt.legend()\n",
    "pass"
   ]
  },
  {
   "cell_type": "code",
   "execution_count": 86,
   "metadata": {},
   "outputs": [
    {
     "name": "stdout",
     "output_type": "stream",
     "text": [
      "Минимальная ошибка на тренировочной: 0.0\n",
      "Минимальная ошибка на тестовой: 0.17346938775510204\n",
      "Best 'n_estimators' for Test:  [1]\n",
      "Best 'n_estimators' for Train:  [1]\n"
     ]
    }
   ],
   "source": [
    "print(\"Минимальная ошибка на тренировочной:\", np.min(train_err))\n",
    "print(\"Минимальная ошибка на тестовой:\", np.min(test_err))\n",
    "r = range_[test_err == np.min(test_err)]\n",
    "print(\"Best 'n_estimators' for Test: \", r)\n",
    "r = range_[train_err == np.min(train_err)]\n",
    "print(\"Best 'n_estimators' for Train: \", r)"
   ]
  },
  {
   "cell_type": "markdown",
   "metadata": {},
   "source": [
    "# SVM"
   ]
  },
  {
   "cell_type": "code",
   "execution_count": 105,
   "metadata": {
    "scrolled": true
   },
   "outputs": [
    {
     "name": "stdout",
     "output_type": "stream",
     "text": [
      "0.0 0.15306122448979592\n"
     ]
    }
   ],
   "source": [
    "from sklearn.svm import SVC\n",
    "svc = SVC(C=0.1, kernel='linear')\n",
    "svc.fit(X_train_1, y_train_1)\n",
    "\n",
    "err_train = np.mean(y_train_1 != svc.predict(X_train_1))\n",
    "err_test  = np.mean(y_test_1 != svc.predict(X_test_1))\n",
    "\n",
    "print(err_train, err_test)"
   ]
  },
  {
   "cell_type": "markdown",
   "metadata": {},
   "source": [
    "# Tree"
   ]
  },
  {
   "cell_type": "code",
   "execution_count": 67,
   "metadata": {},
   "outputs": [
    {
     "name": "stdout",
     "output_type": "stream",
     "text": [
      "0.0 0.32653061224489793\n"
     ]
    }
   ],
   "source": [
    "from sklearn import ensemble\n",
    "rf = ensemble.RandomForestClassifier(n_estimators = 1000)\n",
    "rf.fit(X_train_1, y_train_1)\n",
    "\n",
    "err_train = np.mean(y_train_1 != rf.predict(X_train_1))\n",
    "err_test  = np.mean(y_test_1  != rf.predict(X_test_1))\n",
    "\n",
    "print(err_train, err_test)"
   ]
  },
  {
   "cell_type": "code",
   "execution_count": 69,
   "metadata": {},
   "outputs": [
    {
     "name": "stdout",
     "output_type": "stream",
     "text": [
      "0.0 0.2755102040816326\n"
     ]
    }
   ],
   "source": [
    "ert = ensemble.ExtraTreesClassifier(n_estimators = 1000).fit(X_train_1, y_train_1)\n",
    "\n",
    "err_train = np.mean(y_train_1 != ert.predict(X_train_1))\n",
    "err_test  = np.mean(y_test_1  != ert.predict(X_test_1))\n",
    "\n",
    "print(err_train, err_test)"
   ]
  },
  {
   "cell_type": "code",
   "execution_count": null,
   "metadata": {},
   "outputs": [],
   "source": []
  },
  {
   "cell_type": "markdown",
   "metadata": {},
   "source": [
    "# Digits"
   ]
  },
  {
   "cell_type": "code",
   "execution_count": 111,
   "metadata": {},
   "outputs": [],
   "source": [
    "X_train_1 = np.empty([0, 64000])\n",
    "X_test_1 = np.empty([0, 64000])\n",
    "\n",
    "y_train_1 = np.empty(0)\n",
    "y_test_1 = np.empty(0)\n",
    "\n",
    "#Command recognition\n",
    "command_labels=['zero','one','two','three','four','five','six','seven','eight','nine']\n",
    "with tf.Session() as sess:\n",
    "    out_tensor = sess.graph.get_tensor_by_name('Reshape_1:0')\n",
    "    \n",
    "    for d in next(os.walk(digits_test_dir))[1]:\n",
    "        for f in next(os.walk(os.path.join(digits_test_dir,d)))[2]:\n",
    "            if is_wav(f):\n",
    "                wav_file=os.path.join(digits_test_dir,d,f)        \n",
    "                preds=run_graph(sess,out_tensor,wav_file)\n",
    "                X_test_1 = np.vstack([X_test_1, np.array(preds)])\n",
    "                y_test_1 = np.append(y_test_1, command_labels.index(d))\n",
    "                \n",
    "    for d in next(os.walk(digits_train_dir))[1]:\n",
    "        for f in next(os.walk(os.path.join(digits_train_dir,d)))[2]:\n",
    "            if is_wav(f):\n",
    "                wav_file=os.path.join(digits_train_dir,d,f)        \n",
    "                preds=run_graph(sess,out_tensor,wav_file)\n",
    "                X_train_1 = np.vstack([X_train_1, np.array(preds)])\n",
    "                y_train_1 = np.append(y_train_1, command_labels.index(d))"
   ]
  },
  {
   "cell_type": "markdown",
   "metadata": {},
   "source": [
    "# kNN"
   ]
  },
  {
   "cell_type": "code",
   "execution_count": 115,
   "metadata": {},
   "outputs": [
    {
     "name": "stdout",
     "output_type": "stream",
     "text": [
      "0.0 0.22772277227722773\n"
     ]
    }
   ],
   "source": [
    "knn = KNeighborsClassifier(n_neighbors = 1)\n",
    "knn.fit(X_train_1, y_train_1)\n",
    "\n",
    "y_train_predict = knn.predict(X_train_1)\n",
    "y_test_predict = knn.predict(X_test_1)\n",
    "\n",
    "err_train = np.mean(y_train_1 != y_train_predict)\n",
    "err_test  = np.mean(y_test_1  != y_test_predict)\n",
    "\n",
    "print(err_train, err_test)"
   ]
  },
  {
   "cell_type": "code",
   "execution_count": 120,
   "metadata": {},
   "outputs": [
    {
     "data": {
      "text/plain": [
       "array([ 1, 11, 21, 31, 41, 51])"
      ]
     },
     "execution_count": 120,
     "metadata": {},
     "output_type": "execute_result"
    }
   ],
   "source": [
    "k_ = np.arange(1,60,10)\n",
    "k_"
   ]
  },
  {
   "cell_type": "code",
   "execution_count": 121,
   "metadata": {},
   "outputs": [],
   "source": [
    "test_err = []\n",
    "train_err = []\n",
    "for k in k_:\n",
    "    knn = KNeighborsClassifier(n_neighbors = k)\n",
    "    knn.fit(X_train_1, y_train_1)\n",
    "\n",
    "    y_train_pred = knn.predict(X_train_1)\n",
    "    y_test_pred = knn.predict(X_test_1)\n",
    "    train_err.append(np.mean(y_train_1 != y_train_pred))\n",
    "    test_err.append(np.mean(y_test_1 != y_test_pred))"
   ]
  },
  {
   "cell_type": "code",
   "execution_count": 122,
   "metadata": {},
   "outputs": [
    {
     "data": {
      "image/png": "[encoded data removed]",
      "text/plain": [
       "<Figure size 432x288 with 1 Axes>"
      ]
     },
     "metadata": {
      "needs_background": "light"
     },
     "output_type": "display_data"
    }
   ],
   "source": [
    "plt.plot(k_, train_err, 'b', label = 'train')\n",
    "plt.plot(k_, test_err, 'r', label = 'test')\n",
    "plt.title('Error vs. n_estimators')\n",
    "plt.xlabel('n_estimators')\n",
    "plt.ylabel('error')\n",
    "plt.legend()\n",
    "pass"
   ]
  },
  {
   "cell_type": "code",
   "execution_count": 124,
   "metadata": {},
   "outputs": [
    {
     "name": "stdout",
     "output_type": "stream",
     "text": [
      "Минимальная ошибка на тренировочной: 0.0\n",
      "Минимальная ошибка на тестовой: 0.22772277227722773\n",
      "Best 'n_estimators' for Test:  [1]\n",
      "Best 'n_estimators' for Train:  [1]\n"
     ]
    }
   ],
   "source": [
    "print(\"Минимальная ошибка на тренировочной:\", np.min(train_err))\n",
    "print(\"Минимальная ошибка на тестовой:\", np.min(test_err))\n",
    "r = k_[test_err == np.min(test_err)]\n",
    "print(\"Best 'n_estimators' for Test: \", r)\n",
    "r = k_[train_err == np.min(train_err)]\n",
    "print(\"Best 'n_estimators' for Train: \", r)"
   ]
  },
  {
   "cell_type": "markdown",
   "metadata": {},
   "source": [
    "# SVC"
   ]
  },
  {
   "cell_type": "code",
   "execution_count": 128,
   "metadata": {},
   "outputs": [
    {
     "name": "stdout",
     "output_type": "stream",
     "text": [
      "0.0 0.2376237623762376\n"
     ]
    }
   ],
   "source": [
    "from sklearn.svm import SVC\n",
    "svc = SVC(C=1, kernel='linear')\n",
    "svc.fit(X_train_1, y_train_1)\n",
    "\n",
    "err_train = np.mean(y_train_1 != svc.predict(X_train_1))\n",
    "err_test  = np.mean(y_test_1 != svc.predict(X_test_1))\n",
    "\n",
    "print(err_train, err_test)"
   ]
  },
  {
   "cell_type": "markdown",
   "metadata": {},
   "source": [
    "# Tree"
   ]
  },
  {
   "cell_type": "code",
   "execution_count": 133,
   "metadata": {},
   "outputs": [
    {
     "name": "stdout",
     "output_type": "stream",
     "text": [
      "0.0 0.38613861386138615\n"
     ]
    }
   ],
   "source": [
    "from sklearn import ensemble\n",
    "rf = ensemble.RandomForestClassifier(n_estimators = 2000)\n",
    "rf.fit(X_train_1, y_train_1)\n",
    "\n",
    "err_train = np.mean(y_train_1 != rf.predict(X_train_1))\n",
    "err_test  = np.mean(y_test_1  != rf.predict(X_test_1))\n",
    "\n",
    "print(err_train, err_test)"
   ]
  },
  {
   "cell_type": "code",
   "execution_count": 135,
   "metadata": {},
   "outputs": [
    {
     "name": "stdout",
     "output_type": "stream",
     "text": [
      "0.0 0.37623762376237624\n"
     ]
    }
   ],
   "source": [
    "ert = ensemble.ExtraTreesClassifier(n_estimators = 2000).fit(X_train_1, y_train_1)\n",
    "\n",
    "err_train = np.mean(y_train_1 != ert.predict(X_train_1))\n",
    "err_test  = np.mean(y_test_1  != ert.predict(X_test_1))\n",
    "\n",
    "print(err_train, err_test)"
   ]
  },
  {
   "cell_type": "code",
   "execution_count": null,
   "metadata": {},
   "outputs": [],
   "source": []
  },
  {
   "cell_type": "code",
   "execution_count": null,
   "metadata": {},
   "outputs": [],
   "source": []
  },
  {
   "cell_type": "code",
   "execution_count": null,
   "metadata": {},
   "outputs": [],
   "source": []
  },
  {
   "cell_type": "code",
   "execution_count": null,
   "metadata": {},
   "outputs": [],
   "source": [
    "tf.reset_default_graph()\n",
    "graph_def=load_graph('speech_data/lo')\n",
    "print([n.name for n in graph_def.node])"
   ]
  },
  {
   "cell_type": "code",
   "execution_count": null,
   "metadata": {},
   "outputs": [],
   "source": []
  },
  {
   "cell_type": "code",
   "execution_count": null,
   "metadata": {},
   "outputs": [],
   "source": []
  },
  {
   "cell_type": "markdown",
   "metadata": {
    "colab": {},
    "colab_type": "code",
    "id": "4eyxa4uHzbGN"
   },
   "source": [
    "# low_latency_svdf.pb"
   ]
  },
  {
   "cell_type": "markdown",
   "metadata": {},
   "source": [
    "# commands"
   ]
  },
  {
   "cell_type": "code",
   "execution_count": 147,
   "metadata": {},
   "outputs": [
    {
     "name": "stdout",
     "output_type": "stream",
     "text": [
      "['wav_data', 'decoded_sample_data', 'AudioSpectrogram', 'Mfcc/sample_rate', 'Mfcc', 'Reshape/shape', 'Reshape', 'runtime-memory', 'runtime-memory/read', 'count_nonzero/zeros', 'count_nonzero/NotEqual', 'count_nonzero/ToInt64', 'count_nonzero/Const', 'count_nonzero/Sum', 'Equal/y', 'Equal', 'cond/Switch', 'cond/switch_t', 'cond/switch_f', 'cond/Const', 'cond/Const_1', 'cond/Merge', 'Neg', 'mul/y', 'mul', 'strided_slice/stack/0', 'strided_slice/stack', 'strided_slice/stack_1', 'strided_slice/stack_2', 'strided_slice', 'ExpandDims/dim', 'ExpandDims', 'weights_frequency', 'weights_frequency/read', 'ExpandDims_1/dim', 'ExpandDims_1', 'conv1d/ExpandDims/dim', 'conv1d/ExpandDims', 'conv1d/ExpandDims_1/dim', 'conv1d/ExpandDims_1', 'conv1d/Conv2D', 'conv1d/Squeeze', 'transpose/perm', 'transpose', 'strided_slice_1/stack/0', 'strided_slice_1/stack/1', 'strided_slice_1/stack', 'strided_slice_1/stack_1', 'strided_slice_1/stack_2', 'strided_slice_1', 'concat/axis', 'concat', 'weights_time', 'weights_time/read', 'ExpandDims_2/dim', 'ExpandDims_2', 'MatMul', 'Reshape_1/shape', 'Reshape_1', 'Sum/reduction_indices', 'Sum', 'transpose_1/Rank', 'transpose_1/sub/y', 'transpose_1/sub', 'transpose_1/Range/start', 'transpose_1/Range/delta', 'transpose_1/Range', 'transpose_1/sub_1', 'transpose_1', 'bias', 'bias/read', 'BiasAdd', 'Relu', 'first_fc_weights', 'first_fc_weights/read', 'first_fc_bias', 'first_fc_bias/read', 'MatMul_1', 'add', 'second_fc_weights', 'second_fc_weights/read', 'second_fc_bias', 'second_fc_bias/read', 'MatMul_2', 'add_1', 'final_fc_weights', 'final_fc_weights/read', 'final_fc_bias', 'final_fc_bias/read', 'MatMul_3', 'add_2', 'labels_softmax']\n"
     ]
    }
   ],
   "source": [
    "tf.reset_default_graph()\n",
    "graph_def=load_graph('speech_data/low_latency_svdf.pb')\n",
    "print([n.name for n in graph_def.node])"
   ]
  },
  {
   "cell_type": "code",
   "execution_count": 148,
   "metadata": {
    "colab": {
     "base_uri": "https://localhost:8080/",
     "height": 34
    },
    "colab_type": "code",
    "executionInfo": {
     "elapsed": 787,
     "status": "ok",
     "timestamp": 1556000909268,
     "user": {
      "displayName": "Andrey Savchenko",
      "photoUrl": "",
      "userId": "10284387503507973825"
     },
     "user_tz": -180
    },
    "id": "3EVupcaOw67K",
    "outputId": "e1c0ec89-1a2a-467d-ecec-4fd2d9fe70a5"
   },
   "outputs": [
    {
     "name": "stdout",
     "output_type": "stream",
     "text": [
      "(1280,)\n"
     ]
    }
   ],
   "source": [
    "with tf.Session() as sess:\n",
    "\n",
    "    acc=0\n",
    "    num_tests=0\n",
    "    for d in next(os.walk(commands_test_dir))[1]:\n",
    "        for f in next(os.walk(os.path.join(commands_test_dir,d)))[2]:\n",
    "            if is_wav(f):\n",
    "                wav_file=os.path.join(commands_test_dir,d,f)        \n",
    "                preds=run_graph(sess,out_tensor,wav_file)\n",
    "                print(preds.shape)\n",
    "                break\n",
    "                #num_tests+=1\n",
    "                #if preds.argmax()==command_labels.index(d):\n",
    "                #    acc+=1\n",
    "        break\n",
    "    #print('low_latency_svdf accuracy:',acc/num_tests)\n"
   ]
  },
  {
   "cell_type": "code",
   "execution_count": 150,
   "metadata": {},
   "outputs": [],
   "source": [
    "X_train_1 = np.empty([0, 1280])\n",
    "X_test_1 = np.empty([0, 1280])\n",
    "\n",
    "y_train_1 = np.empty(0)\n",
    "y_test_1 = np.empty(0)\n",
    "\n",
    "#Command recognition\n",
    "command_labels=['_silence_','_unknown_','yes','no','up','down','left','right','on','off','stop','go']\n",
    "with tf.Session() as sess:\n",
    "    out_tensor = sess.graph.get_tensor_by_name('Relu:0')\n",
    "    \n",
    "    for d in next(os.walk(commands_test_dir))[1]:\n",
    "        for f in next(os.walk(os.path.join(commands_test_dir,d)))[2]:\n",
    "            if is_wav(f):\n",
    "                wav_file=os.path.join(commands_test_dir,d,f)        \n",
    "                preds=run_graph(sess,out_tensor,wav_file)\n",
    "                X_test_1 = np.vstack([X_test_1, np.array(preds)])\n",
    "                y_test_1 = np.append(y_test_1, command_labels.index(d))\n",
    "                \n",
    "    for d in next(os.walk(commands_train_dir))[1]:\n",
    "        for f in next(os.walk(os.path.join(commands_train_dir,d)))[2]:\n",
    "            if is_wav(f):\n",
    "                wav_file=os.path.join(commands_train_dir,d,f)        \n",
    "                preds=run_graph(sess,out_tensor,wav_file)\n",
    "                X_train_1 = np.vstack([X_train_1, np.array(preds)])\n",
    "                y_train_1 = np.append(y_train_1, command_labels.index(d))"
   ]
  },
  {
   "cell_type": "code",
   "execution_count": 154,
   "metadata": {},
   "outputs": [
    {
     "name": "stdout",
     "output_type": "stream",
     "text": [
      "0.0 0.24489795918367346\n"
     ]
    }
   ],
   "source": [
    "knn = KNeighborsClassifier(n_neighbors = 1)\n",
    "knn.fit(X_train_1, y_train_1)\n",
    "\n",
    "y_train_predict = knn.predict(X_train_1)\n",
    "y_test_predict = knn.predict(X_test_1)\n",
    "\n",
    "err_train = np.mean(y_train_1 != y_train_predict)\n",
    "err_test  = np.mean(y_test_1  != y_test_predict)\n",
    "\n",
    "print(err_train, err_test)"
   ]
  },
  {
   "cell_type": "code",
   "execution_count": 155,
   "metadata": {},
   "outputs": [],
   "source": [
    "k_ = np.arange(1,60,10)\n",
    "test_err = []\n",
    "train_err = []\n",
    "for k in k_:\n",
    "    knn = KNeighborsClassifier(n_neighbors = k)\n",
    "    knn.fit(X_train_1, y_train_1)\n",
    "\n",
    "    y_train_pred = knn.predict(X_train_1)\n",
    "    y_test_pred = knn.predict(X_test_1)\n",
    "    train_err.append(np.mean(y_train_1 != y_train_pred))\n",
    "    test_err.append(np.mean(y_test_1 != y_test_pred))"
   ]
  },
  {
   "cell_type": "code",
   "execution_count": 156,
   "metadata": {
    "scrolled": true
   },
   "outputs": [
    {
     "data": {
      "image/png": "[encoded data removed]",
      "text/plain": [
       "<Figure size 432x288 with 1 Axes>"
      ]
     },
     "metadata": {
      "needs_background": "light"
     },
     "output_type": "display_data"
    }
   ],
   "source": [
    "plt.plot(k_, train_err, 'b', label = 'train')\n",
    "plt.plot(k_, test_err, 'r', label = 'test')\n",
    "plt.title('Error vs. n_estimators')\n",
    "plt.xlabel('n_estimators')\n",
    "plt.ylabel('error')\n",
    "plt.legend()\n",
    "pass"
   ]
  },
  {
   "cell_type": "code",
   "execution_count": 157,
   "metadata": {},
   "outputs": [
    {
     "name": "stdout",
     "output_type": "stream",
     "text": [
      "Минимальная ошибка на тренировочной: 0.0\n",
      "Минимальная ошибка на тестовой: 0.24489795918367346\n",
      "Best 'n_estimators' for Test:  [1]\n",
      "Best 'n_estimators' for Train:  [1]\n"
     ]
    }
   ],
   "source": [
    "print(\"Минимальная ошибка на тренировочной:\", np.min(train_err))\n",
    "print(\"Минимальная ошибка на тестовой:\", np.min(test_err))\n",
    "r = k_[test_err == np.min(test_err)]\n",
    "print(\"Best 'n_estimators' for Test: \", r)\n",
    "r = k_[train_err == np.min(train_err)]\n",
    "print(\"Best 'n_estimators' for Train: \", r)"
   ]
  },
  {
   "cell_type": "markdown",
   "metadata": {},
   "source": [
    "# SVC"
   ]
  },
  {
   "cell_type": "code",
   "execution_count": 158,
   "metadata": {},
   "outputs": [
    {
     "name": "stdout",
     "output_type": "stream",
     "text": [
      "0.01 0.20408163265306123\n"
     ]
    }
   ],
   "source": [
    "from sklearn.svm import SVC\n",
    "svc = SVC(C=1, kernel='linear')\n",
    "svc.fit(X_train_1, y_train_1)\n",
    "\n",
    "err_train = np.mean(y_train_1 != svc.predict(X_train_1))\n",
    "err_test  = np.mean(y_test_1 != svc.predict(X_test_1))\n",
    "\n",
    "print(err_train, err_test)"
   ]
  },
  {
   "cell_type": "markdown",
   "metadata": {},
   "source": [
    "# Digits"
   ]
  },
  {
   "cell_type": "code",
   "execution_count": 159,
   "metadata": {},
   "outputs": [],
   "source": [
    "X_train_1 = np.empty([0, 1280])\n",
    "X_test_1 = np.empty([0, 1280])\n",
    "\n",
    "y_train_1 = np.empty(0)\n",
    "y_test_1 = np.empty(0)\n",
    "\n",
    "#Command recognition\n",
    "command_labels=['zero','one','two','three','four','five','six','seven','eight','nine']\n",
    "with tf.Session() as sess:\n",
    "    out_tensor = sess.graph.get_tensor_by_name('Relu:0')\n",
    "    \n",
    "    for d in next(os.walk(digits_test_dir))[1]:\n",
    "        for f in next(os.walk(os.path.join(digits_test_dir,d)))[2]:\n",
    "            if is_wav(f):\n",
    "                wav_file=os.path.join(digits_test_dir,d,f)        \n",
    "                preds=run_graph(sess,out_tensor,wav_file)\n",
    "                X_test_1 = np.vstack([X_test_1, np.array(preds)])\n",
    "                y_test_1 = np.append(y_test_1, command_labels.index(d))\n",
    "                \n",
    "    for d in next(os.walk(digits_train_dir))[1]:\n",
    "        for f in next(os.walk(os.path.join(digits_train_dir,d)))[2]:\n",
    "            if is_wav(f):\n",
    "                wav_file=os.path.join(digits_train_dir,d,f)        \n",
    "                preds=run_graph(sess,out_tensor,wav_file)\n",
    "                X_train_1 = np.vstack([X_train_1, np.array(preds)])\n",
    "                y_train_1 = np.append(y_train_1, command_labels.index(d))"
   ]
  },
  {
   "cell_type": "markdown",
   "metadata": {},
   "source": [
    "# kNN"
   ]
  },
  {
   "cell_type": "code",
   "execution_count": 160,
   "metadata": {},
   "outputs": [],
   "source": [
    "k_ = np.arange(1,60,10)\n",
    "test_err = []\n",
    "train_err = []\n",
    "for k in k_:\n",
    "    knn = KNeighborsClassifier(n_neighbors = k)\n",
    "    knn.fit(X_train_1, y_train_1)\n",
    "\n",
    "    y_train_pred = knn.predict(X_train_1)\n",
    "    y_test_pred = knn.predict(X_test_1)\n",
    "    train_err.append(np.mean(y_train_1 != y_train_pred))\n",
    "    test_err.append(np.mean(y_test_1 != y_test_pred))"
   ]
  },
  {
   "cell_type": "code",
   "execution_count": 161,
   "metadata": {},
   "outputs": [
    {
     "data": {
      "image/png": "[encoded data removed]",
      "text/plain": [
       "<Figure size 432x288 with 1 Axes>"
      ]
     },
     "metadata": {
      "needs_background": "light"
     },
     "output_type": "display_data"
    }
   ],
   "source": [
    "plt.plot(k_, train_err, 'b', label = 'train')\n",
    "plt.plot(k_, test_err, 'r', label = 'test')\n",
    "plt.title('Error vs. n_estimators')\n",
    "plt.xlabel('n_estimators')\n",
    "plt.ylabel('error')\n",
    "plt.legend()\n",
    "pass"
   ]
  },
  {
   "cell_type": "code",
   "execution_count": 162,
   "metadata": {},
   "outputs": [
    {
     "name": "stdout",
     "output_type": "stream",
     "text": [
      "Минимальная ошибка на тренировочной: 0.0\n",
      "Минимальная ошибка на тестовой: 0.2871287128712871\n",
      "Best 'n_estimators' for Test:  [1]\n",
      "Best 'n_estimators' for Train:  [1]\n"
     ]
    }
   ],
   "source": [
    "print(\"Минимальная ошибка на тренировочной:\", np.min(train_err))\n",
    "print(\"Минимальная ошибка на тестовой:\", np.min(test_err))\n",
    "r = k_[test_err == np.min(test_err)]\n",
    "print(\"Best 'n_estimators' for Test: \", r)\n",
    "r = k_[train_err == np.min(train_err)]\n",
    "print(\"Best 'n_estimators' for Train: \", r)"
   ]
  },
  {
   "cell_type": "markdown",
   "metadata": {},
   "source": [
    "# SVC"
   ]
  },
  {
   "cell_type": "code",
   "execution_count": 165,
   "metadata": {},
   "outputs": [
    {
     "name": "stdout",
     "output_type": "stream",
     "text": [
      "0.0 0.2871287128712871\n"
     ]
    }
   ],
   "source": [
    "from sklearn.svm import SVC\n",
    "svc = SVC(C=10, kernel='linear')\n",
    "svc.fit(X_train_1, y_train_1)\n",
    "\n",
    "err_train = np.mean(y_train_1 != svc.predict(X_train_1))\n",
    "err_test  = np.mean(y_test_1 != svc.predict(X_test_1))\n",
    "\n",
    "print(err_train, err_test)"
   ]
  }
 ],
 "metadata": {
  "accelerator": "GPU",
  "colab": {
   "collapsed_sections": [],
   "name": "speech_commands.ipynb",
   "provenance": [],
   "version": "0.3.2"
  },
  "kernelspec": {
   "display_name": "Python 3",
   "language": "python",
   "name": "python3"
  },
  "language_info": {
   "codemirror_mode": {
    "name": "ipython",
    "version": 3
   },
   "file_extension": ".py",
   "mimetype": "text/x-python",
   "name": "python",
   "nbconvert_exporter": "python",
   "pygments_lexer": "ipython3",
   "version": "3.7.1"
  }
 },
 "nbformat": 4,
 "nbformat_minor": 1
}
