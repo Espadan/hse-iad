{
 "cells": [
  {
   "cell_type": "code",
   "execution_count": 1,
   "metadata": {},
   "outputs": [],
   "source": [
    "import torch\n",
    "import torch.nn as nn\n",
    "import torchvision\n",
    "import torchvision.transforms as transforms\n",
    "\n",
    "import matplotlib.pyplot as plt\n",
    "%matplotlib inline"
   ]
  },
  {
   "cell_type": "code",
   "execution_count": 2,
   "metadata": {},
   "outputs": [],
   "source": [
    "# Hyper-parameters \n",
    "input_size = 784\n",
    "num_classes = 10\n",
    "num_epochs = 10\n",
    "batch_size = 100\n",
    "learning_rate = 0.001"
   ]
  },
  {
   "cell_type": "code",
   "execution_count": 3,
   "metadata": {},
   "outputs": [],
   "source": [
    "# MNIST dataset (images and labels)\n",
    "train_dataset = torchvision.datasets.MNIST(root='../../data', \n",
    "                                           train=True, \n",
    "                                           transform=transforms.ToTensor(),\n",
    "                                           download=True)\n",
    "\n",
    "test_dataset = torchvision.datasets.MNIST(root='../../data', \n",
    "                                          train=False, \n",
    "                                          transform=transforms.ToTensor())\n",
    "\n",
    "# Data loader (input pipeline)\n",
    "train_loader = torch.utils.data.DataLoader(dataset=train_dataset, \n",
    "                                           batch_size=batch_size, \n",
    "                                           shuffle=True)\n",
    "\n",
    "test_loader = torch.utils.data.DataLoader(dataset=test_dataset, \n",
    "                                          batch_size=batch_size, \n",
    "                                          shuffle=False)"
   ]
  },
  {
   "cell_type": "markdown",
   "metadata": {},
   "source": [
    "## 1 Linear"
   ]
  },
  {
   "cell_type": "code",
   "execution_count": 5,
   "metadata": {},
   "outputs": [],
   "source": [
    "# Logistic regression model\n",
    "model = nn.Linear(input_size, num_classes)"
   ]
  },
  {
   "cell_type": "code",
   "execution_count": 6,
   "metadata": {},
   "outputs": [],
   "source": [
    "# Loss and optimizer\n",
    "# nn.CrossEntropyLoss() computes softmax internally\n",
    "criterion = nn.CrossEntropyLoss()  \n",
    "optimizer = torch.optim.SGD(model.parameters(), lr=learning_rate)  "
   ]
  },
  {
   "cell_type": "code",
   "execution_count": 12,
   "metadata": {
    "scrolled": true
   },
   "outputs": [
    {
     "name": "stdout",
     "output_type": "stream",
     "text": [
      "Epoch [1/10], Step [200/600], Loss: 1.0415\n",
      "Epoch [1/10], Step [400/600], Loss: 0.8403\n",
      "Epoch [1/10], Step [600/600], Loss: 0.9089\n",
      "Epoch [2/10], Step [200/600], Loss: 1.0156\n",
      "Epoch [2/10], Step [400/600], Loss: 0.8888\n",
      "Epoch [2/10], Step [600/600], Loss: 0.8836\n",
      "Epoch [3/10], Step [200/600], Loss: 0.9314\n",
      "Epoch [3/10], Step [400/600], Loss: 0.7875\n",
      "Epoch [3/10], Step [600/600], Loss: 0.7506\n",
      "Epoch [4/10], Step [200/600], Loss: 0.7648\n",
      "Epoch [4/10], Step [400/600], Loss: 0.7238\n",
      "Epoch [4/10], Step [600/600], Loss: 0.8717\n",
      "Epoch [5/10], Step [200/600], Loss: 0.8862\n",
      "Epoch [5/10], Step [400/600], Loss: 0.6866\n",
      "Epoch [5/10], Step [600/600], Loss: 0.7106\n",
      "Epoch [6/10], Step [200/600], Loss: 0.8482\n",
      "Epoch [6/10], Step [400/600], Loss: 0.6222\n",
      "Epoch [6/10], Step [600/600], Loss: 0.6002\n",
      "Epoch [7/10], Step [200/600], Loss: 0.7422\n",
      "Epoch [7/10], Step [400/600], Loss: 0.7013\n",
      "Epoch [7/10], Step [600/600], Loss: 0.6941\n",
      "Epoch [8/10], Step [200/600], Loss: 0.6620\n",
      "Epoch [8/10], Step [400/600], Loss: 0.7060\n",
      "Epoch [8/10], Step [600/600], Loss: 0.6584\n",
      "Epoch [9/10], Step [200/600], Loss: 0.6071\n",
      "Epoch [9/10], Step [400/600], Loss: 0.8289\n",
      "Epoch [9/10], Step [600/600], Loss: 0.7825\n",
      "Epoch [10/10], Step [200/600], Loss: 0.6954\n",
      "Epoch [10/10], Step [400/600], Loss: 0.8432\n",
      "Epoch [10/10], Step [600/600], Loss: 0.6603\n"
     ]
    }
   ],
   "source": [
    "auc = []\n",
    "epochs = range(num_epochs)\n",
    "\n",
    "# Train the model\n",
    "total_step = len(train_loader)\n",
    "for epoch in range(num_epochs):\n",
    "    for i, (images, labels) in enumerate(train_loader):\n",
    "        # Reshape images to (batch_size, input_size)\n",
    "        images = images.reshape(-1, 28*28)\n",
    "        \n",
    "        # Forward pass\n",
    "        outputs = model(images)\n",
    "        loss = criterion(outputs, labels)\n",
    "        \n",
    "        # Backward and optimize\n",
    "        optimizer.zero_grad()\n",
    "        loss.backward()\n",
    "        optimizer.step()\n",
    "        \n",
    "        if (i+1) % 200 == 0:\n",
    "            print ('Epoch [{}/{}], Step [{}/{}], Loss: {:.4f}' \n",
    "                   .format(epoch+1, num_epochs, i+1, total_step, loss.item()))\n",
    "            \n",
    "            \n",
    "    with torch.no_grad():\n",
    "        correct = 0\n",
    "        total = 0\n",
    "        for images, labels in test_loader:\n",
    "            images = images.reshape(-1, 28*28)\n",
    "            outputs = model(images)\n",
    "            _, predicted = torch.max(outputs.data, 1)\n",
    "            total += labels.size(0)\n",
    "            correct += (predicted == labels).sum()\n",
    "    auc.append(correct / total)"
   ]
  },
  {
   "cell_type": "code",
   "execution_count": 16,
   "metadata": {},
   "outputs": [
    {
     "data": {
      "image/png": "[encoded data removed]",
      "text/plain": [
       "<Figure size 432x288 with 1 Axes>"
      ]
     },
     "metadata": {
      "needs_background": "light"
     },
     "output_type": "display_data"
    }
   ],
   "source": [
    "plt.plot(epochs, auc, 'b', label = '1')\n",
    "pass"
   ]
  },
  {
   "cell_type": "markdown",
   "metadata": {},
   "source": [
    "## 2 Linear"
   ]
  },
  {
   "cell_type": "code",
   "execution_count": 39,
   "metadata": {},
   "outputs": [],
   "source": [
    "# Hyper-parameters \n",
    "input_size = 784\n",
    "hidden1_size = 500\n",
    "hidden2_size = 500\n",
    "hidden3_size = 250\n",
    "hidden4_size = 100\n",
    "num_classes = 10\n",
    "num_epochs = 20\n",
    "batch_size = 100\n",
    "learning_rate = 0.001"
   ]
  },
  {
   "cell_type": "code",
   "execution_count": 40,
   "metadata": {},
   "outputs": [],
   "source": [
    "# Fully connected neural network with one hidden layer\n",
    "class NeuralNet(nn.Module):\n",
    "    def __init__(self, input_size, hidden1_size, hidden2_size, num_classes):\n",
    "        super(NeuralNet, self).__init__()\n",
    "        self.fc1 = nn.Linear(input_size, hidden1_size) \n",
    "        self.relu1 = nn.ReLU()\n",
    "        self.fc2 = nn.Linear(hidden1_size, hidden2_size) \n",
    "        self.relu2 = nn.ReLU()\n",
    "        self.fc3 = nn.Linear(hidden2_size, hidden3_size)\n",
    "        self.relu3 = nn.ReLU()\n",
    "        self.fc4 = nn.Linear(hidden3_size, hidden4_size) \n",
    "        self.relu4 = nn.ReLU()\n",
    "        self.fc5 = nn.Linear(hidden4_size, num_classes) \n",
    "    \n",
    "    def forward(self, x):\n",
    "        out = self.fc1(x)\n",
    "        out = self.relu1(out)\n",
    "        out = self.fc2(out)\n",
    "        out = self.relu2(out)\n",
    "        out = self.fc3(out)\n",
    "        out = self.relu3(out)\n",
    "        out = self.fc4(out)\n",
    "        out = self.relu4(out)\n",
    "        out = self.fc5(out)\n",
    "        \n",
    "        return out"
   ]
  },
  {
   "cell_type": "code",
   "execution_count": 41,
   "metadata": {},
   "outputs": [
    {
     "name": "stdout",
     "output_type": "stream",
     "text": [
      "Epoch [1/20], Step [200/600], Loss: 0.3963\n",
      "Epoch [1/20], Step [400/600], Loss: 0.4103\n",
      "Epoch [1/20], Step [600/600], Loss: 0.5133\n",
      "Epoch [2/20], Step [200/600], Loss: 0.3954\n",
      "Epoch [2/20], Step [400/600], Loss: 0.5390\n",
      "Epoch [2/20], Step [600/600], Loss: 0.4314\n",
      "Epoch [3/20], Step [200/600], Loss: 0.4553\n",
      "Epoch [3/20], Step [400/600], Loss: 0.3833\n",
      "Epoch [3/20], Step [600/600], Loss: 0.5481\n",
      "Epoch [4/20], Step [200/600], Loss: 0.4027\n",
      "Epoch [4/20], Step [400/600], Loss: 0.4992\n",
      "Epoch [4/20], Step [600/600], Loss: 0.4650\n",
      "Epoch [5/20], Step [200/600], Loss: 0.3804\n",
      "Epoch [5/20], Step [400/600], Loss: 0.5685\n",
      "Epoch [5/20], Step [600/600], Loss: 0.5210\n",
      "Epoch [6/20], Step [200/600], Loss: 0.4353\n",
      "Epoch [6/20], Step [400/600], Loss: 0.4020\n",
      "Epoch [6/20], Step [600/600], Loss: 0.5935\n",
      "Epoch [7/20], Step [200/600], Loss: 0.5690\n",
      "Epoch [7/20], Step [400/600], Loss: 0.4291\n",
      "Epoch [7/20], Step [600/600], Loss: 0.3507\n",
      "Epoch [8/20], Step [200/600], Loss: 0.4231\n",
      "Epoch [8/20], Step [400/600], Loss: 0.5680\n",
      "Epoch [8/20], Step [600/600], Loss: 0.3665\n",
      "Epoch [9/20], Step [200/600], Loss: 0.4207\n",
      "Epoch [9/20], Step [400/600], Loss: 0.5264\n",
      "Epoch [9/20], Step [600/600], Loss: 0.4100\n",
      "Epoch [10/20], Step [200/600], Loss: 0.4613\n",
      "Epoch [10/20], Step [400/600], Loss: 0.6048\n",
      "Epoch [10/20], Step [600/600], Loss: 0.5394\n",
      "Epoch [11/20], Step [200/600], Loss: 0.3283\n",
      "Epoch [11/20], Step [400/600], Loss: 0.3735\n",
      "Epoch [11/20], Step [600/600], Loss: 0.5813\n",
      "Epoch [12/20], Step [200/600], Loss: 0.5305\n",
      "Epoch [12/20], Step [400/600], Loss: 0.5227\n",
      "Epoch [12/20], Step [600/600], Loss: 0.4272\n",
      "Epoch [13/20], Step [200/600], Loss: 0.4906\n",
      "Epoch [13/20], Step [400/600], Loss: 0.6122\n",
      "Epoch [13/20], Step [600/600], Loss: 0.3672\n",
      "Epoch [14/20], Step [200/600], Loss: 0.4421\n",
      "Epoch [14/20], Step [400/600], Loss: 0.4621\n",
      "Epoch [14/20], Step [600/600], Loss: 0.4308\n",
      "Epoch [15/20], Step [200/600], Loss: 0.3531\n",
      "Epoch [15/20], Step [400/600], Loss: 0.4218\n",
      "Epoch [15/20], Step [600/600], Loss: 0.4646\n",
      "Epoch [16/20], Step [200/600], Loss: 0.5381\n",
      "Epoch [16/20], Step [400/600], Loss: 0.4492\n",
      "Epoch [16/20], Step [600/600], Loss: 0.4013\n",
      "Epoch [17/20], Step [200/600], Loss: 0.5110\n",
      "Epoch [17/20], Step [400/600], Loss: 0.5138\n",
      "Epoch [17/20], Step [600/600], Loss: 0.4506\n",
      "Epoch [18/20], Step [200/600], Loss: 0.4314\n",
      "Epoch [18/20], Step [400/600], Loss: 0.4793\n",
      "Epoch [18/20], Step [600/600], Loss: 0.4637\n",
      "Epoch [19/20], Step [200/600], Loss: 0.4140\n",
      "Epoch [19/20], Step [400/600], Loss: 0.2781\n",
      "Epoch [19/20], Step [600/600], Loss: 0.5890\n",
      "Epoch [20/20], Step [200/600], Loss: 0.5061\n",
      "Epoch [20/20], Step [400/600], Loss: 0.3218\n",
      "Epoch [20/20], Step [600/600], Loss: 0.4982\n"
     ]
    }
   ],
   "source": [
    "auc = []\n",
    "epochs = range(num_epochs)\n",
    "\n",
    "# Train the model\n",
    "total_step = len(train_loader)\n",
    "for epoch in range(num_epochs):\n",
    "    for i, (images, labels) in enumerate(train_loader):\n",
    "        # Reshape images to (batch_size, input_size)\n",
    "        images = images.reshape(-1, 28*28)\n",
    "        \n",
    "        # Forward pass\n",
    "        outputs = model(images)\n",
    "        \n",
    "        loss = criterion(outputs, labels)\n",
    "        \n",
    "        # Backward and optimize\n",
    "        optimizer.zero_grad()\n",
    "        loss.backward()\n",
    "        optimizer.step()\n",
    "        \n",
    "        if (i+1) % 200 == 0:\n",
    "            print ('Epoch [{}/{}], Step [{}/{}], Loss: {:.4f}' \n",
    "                   .format(epoch+1, num_epochs, i+1, total_step, loss.item()))\n",
    "            \n",
    "            \n",
    "    with torch.no_grad():\n",
    "        correct = 0\n",
    "        total = 0\n",
    "        for images, labels in test_loader:\n",
    "            images = images.reshape(-1, 28*28)\n",
    "            outputs = model(images)\n",
    "            _, predicted = torch.max(outputs.data, 1)\n",
    "            total += labels.size(0)\n",
    "            correct += (predicted == labels).sum()\n",
    "    auc.append(100 * correct / total)"
   ]
  },
  {
   "cell_type": "code",
   "execution_count": 42,
   "metadata": {},
   "outputs": [
    {
     "data": {
      "image/png": "[encoded data removed]",
      "text/plain": [
       "<Figure size 432x288 with 1 Axes>"
      ]
     },
     "metadata": {
      "needs_background": "light"
     },
     "output_type": "display_data"
    }
   ],
   "source": [
    "plt.plot(epochs, auc, 'b', label = '1')\n",
    "pass"
   ]
  },
  {
   "cell_type": "code",
   "execution_count": 48,
   "metadata": {},
   "outputs": [
    {
     "name": "stdout",
     "output_type": "stream",
     "text": [
      "Accuracy of the model on the 10000 test images:  tensor(89)\n"
     ]
    }
   ],
   "source": [
    "# Test the model\n",
    "# In test phase, we don't need to compute gradients (for memory efficiency)\n",
    "with torch.no_grad():\n",
    "    correct = 0\n",
    "    total = 0\n",
    "    for images, labels in test_loader:\n",
    "        images = images.reshape(-1, 28*28)\n",
    "        outputs = model(images)\n",
    "        _, predicted = torch.max(outputs.data, 1)\n",
    "        total += labels.size(0)\n",
    "        correct += (predicted == labels).sum()\n",
    "\n",
    "    print('Accuracy of the model on the 10000 test images: ', 100 * correct / total)\n"
   ]
  },
  {
   "cell_type": "code",
   "execution_count": null,
   "metadata": {},
   "outputs": [],
   "source": [
    "\n",
    "# Save the model checkpoint\n",
    "torch.save(model.state_dict(), 'model.ckpt')"
   ]
  }
 ],
 "metadata": {
  "kernelspec": {
   "display_name": "Python 3",
   "language": "python",
   "name": "python3"
  },
  "language_info": {
   "codemirror_mode": {
    "name": "ipython",
    "version": 3
   },
   "file_extension": ".py",
   "mimetype": "text/x-python",
   "name": "python",
   "nbconvert_exporter": "python",
   "pygments_lexer": "ipython3",
   "version": "3.7.1"
  }
 },
 "nbformat": 4,
 "nbformat_minor": 2
}
